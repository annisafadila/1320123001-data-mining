{
  "nbformat": 4,
  "nbformat_minor": 0,
  "metadata": {
    "colab": {
      "provenance": [],
      "authorship_tag": "ABX9TyPiHoiET+dWM8lzpYdOBHLc",
      "include_colab_link": true
    },
    "kernelspec": {
      "name": "python3",
      "display_name": "Python 3"
    },
    "language_info": {
      "name": "python"
    }
  },
  "cells": [
    {
      "cell_type": "markdown",
      "metadata": {
        "id": "view-in-github",
        "colab_type": "text"
      },
      "source": [
        "<a href=\"https://colab.research.google.com/github/annisafadila/1320123001-data-mining/blob/main/Setup_Environment_Demo.ipynb\" target=\"_parent\"><img src=\"https://colab.research.google.com/assets/colab-badge.svg\" alt=\"Open In Colab\"/></a>"
      ]
    },
    {
      "cell_type": "code",
      "execution_count": null,
      "metadata": {
        "id": "ybydkjuihYoy"
      },
      "outputs": [],
      "source": [
        "!git clone https://github.com/annisafadila/1320123001-data-mining/blob/main/README.md\n",
        "print (\"Hello,Data Mining!\")\n",
        "\n",
        "import pandas as pd\n",
        "print(\"Versi Pandas yang terinstall:\", pd._version_)"
      ]
    }
  ]
}